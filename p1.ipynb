{
  "cells": [
    {
      "cell_type": "markdown",
      "metadata": {
        "id": "view-in-github",
        "colab_type": "text"
      },
      "source": [
        "<a href=\"https://colab.research.google.com/github/parthrana-27/PING-VISUALIZER/blob/main/p1.ipynb\" target=\"_parent\"><img src=\"https://colab.research.google.com/assets/colab-badge.svg\" alt=\"Open In Colab\"/></a>"
      ]
    },
    {
      "cell_type": "code",
      "execution_count": null,
      "metadata": {
        "id": "k_GjTAvMYhnT"
      },
      "outputs": [],
      "source": [
        "import pandas as pd\n",
        "import numpy as np\n",
        "\n",
        "import re\n",
        "import nltk\n",
        "import spacy\n",
        "import string"
      ]
    },
    {
      "cell_type": "code",
      "source": [
        "data_file=pd.read_csv('/content/train.csv')\n",
        "print(data_file.head())"
      ],
      "metadata": {
        "colab": {
          "base_uri": "https://localhost:8080/"
        },
        "id": "aG08N0UWLr94",
        "outputId": "c0d3002a-3ea4-4072-885e-c3a6ecd78ac5"
      },
      "execution_count": null,
      "outputs": [
        {
          "output_type": "stream",
          "name": "stdout",
          "text": [
            "   id keyword location                                               text  \\\n",
            "0   1     NaN      NaN  Our Deeds are the Reason of this #earthquake M...   \n",
            "1   4     NaN      NaN             Forest fire near La Ronge Sask. Canada   \n",
            "2   5     NaN      NaN  All residents asked to 'shelter in place' are ...   \n",
            "3   6     NaN      NaN  13,000 people receive #wildfires evacuation or...   \n",
            "4   7     NaN      NaN  Just got sent this photo from Ruby #Alaska as ...   \n",
            "\n",
            "   target  \n",
            "0       1  \n",
            "1       1  \n",
            "2       1  \n",
            "3       1  \n",
            "4       1  \n"
          ]
        }
      ]
    },
    {
      "cell_type": "code",
      "source": [
        "with open('/content/p1.txt', 'r') as file:\n",
        "    content = file.read()\n",
        "print(content.lower())"
      ],
      "metadata": {
        "colab": {
          "base_uri": "https://localhost:8080/"
        },
        "id": "WPGr0g_SNQxE",
        "outputId": "9482a88e-7231-420a-e896-08459835df8a"
      },
      "execution_count": null,
      "outputs": [
        {
          "output_type": "stream",
          "name": "stdout",
          "text": [
            "my name is parth rana.\n",
            "i am currently studying in institute of technology, nirma university.\n"
          ]
        }
      ]
    },
    {
      "cell_type": "code",
      "source": [
        "s = 'GeeksforGeeks: A computer science portal portal 123456789 for geeks'\n",
        "match=re.search(r'portal',s) # here s defines string\n",
        "print(match)\n",
        "c=re.compile('[a-e]')\n",
        "regex='\\d+' # \\d for list of single digit and\n",
        "            # \\d+ for list of sequence of digits\n",
        "            # \\W for non word char\n",
        "print(c.findall(s))\n",
        "find=re.findall(regex,s)\n",
        "print(find)\n",
        "from re import split\n",
        "print(split('\\W+',s))\n",
        "ren=re.subn('portal','page',s)\n",
        "print(ren)"
      ],
      "metadata": {
        "colab": {
          "base_uri": "https://localhost:8080/"
        },
        "id": "OVMh3_5IN-V3",
        "outputId": "6abc3953-264c-41a1-e387-acd1e07feb4d"
      },
      "execution_count": null,
      "outputs": [
        {
          "output_type": "stream",
          "name": "stdout",
          "text": [
            "<re.Match object; span=(34, 40), match='portal'>\n",
            "['e', 'e', 'e', 'e', 'c', 'e', 'c', 'e', 'c', 'e', 'a', 'a', 'e', 'e']\n",
            "['123456789']\n",
            "['GeeksforGeeks', 'A', 'computer', 'science', 'portal', 'portal', '123456789', 'for', 'geeks']\n",
            "('GeeksforGeeks: A computer science page page 123456789 for geeks', 2)\n"
          ]
        }
      ]
    },
    {
      "cell_type": "code",
      "source": [
        "nlp = spacy.load(\"en_core_web_sm\")\n",
        "\n",
        "nlp.pipe_names"
      ],
      "metadata": {
        "colab": {
          "base_uri": "https://localhost:8080/"
        },
        "id": "M8_4c6S2EIPY",
        "outputId": "9252fb8e-0c6e-4599-d3bd-6bcb196a35fa"
      },
      "execution_count": null,
      "outputs": [
        {
          "output_type": "execute_result",
          "data": {
            "text/plain": [
              "['tok2vec', 'tagger', 'parser', 'attribute_ruler', 'lemmatizer', 'ner']"
            ]
          },
          "metadata": {},
          "execution_count": 11
        }
      ]
    },
    {
      "cell_type": "code",
      "source": [
        "nlp = spacy.load(\"en_core_web_sm\")\n",
        "doc = nlp(\"If you want to be an excellent programmer \\\n",
        ", be consistent to practice daily on GFG.\")\n",
        "for token in doc:\n",
        "    print(token, \" | \",\n",
        "          spacy.explain(token.pos_),\n",
        "          \" | \", token.lemma_)"
      ],
      "metadata": {
        "colab": {
          "base_uri": "https://localhost:8080/"
        },
        "id": "XvgVMz0uFbDD",
        "outputId": "257e8396-ee62-4229-f1c2-841759e8d77a"
      },
      "execution_count": null,
      "outputs": [
        {
          "output_type": "stream",
          "name": "stdout",
          "text": [
            "If  |  subordinating conjunction  |  if\n",
            "you  |  pronoun  |  you\n",
            "want  |  verb  |  want\n",
            "to  |  particle  |  to\n",
            "be  |  auxiliary  |  be\n",
            "an  |  determiner  |  an\n",
            "excellent  |  adjective  |  excellent\n",
            "programmer  |  noun  |  programmer\n",
            ",  |  punctuation  |  ,\n",
            "be  |  auxiliary  |  be\n",
            "consistent  |  adjective  |  consistent\n",
            "to  |  particle  |  to\n",
            "practice  |  verb  |  practice\n",
            "daily  |  adverb  |  daily\n",
            "on  |  adposition  |  on\n",
            "GFG  |  proper noun  |  GFG\n",
            ".  |  punctuation  |  .\n"
          ]
        }
      ]
    },
    {
      "cell_type": "code",
      "source": [
        "import nltk\n",
        "nltk.download('punkt_tab')\n",
        "from nltk import word_tokenize, sent_tokenize\n",
        "sent = \"GeeksforGeeks is a great learning platform. \\\n",
        "It is one of the best for Computer Science students.\"\n",
        "print(word_tokenize(sent))\n",
        "print(sent_tokenize(sent))"
      ],
      "metadata": {
        "colab": {
          "base_uri": "https://localhost:8080/"
        },
        "id": "zsKcRllc5aRW",
        "outputId": "bace2887-7055-486d-fb68-586cf4993b10"
      },
      "execution_count": null,
      "outputs": [
        {
          "output_type": "stream",
          "name": "stdout",
          "text": [
            "['GeeksforGeeks', 'is', 'a', 'great', 'learning', 'platform', '.', 'It', 'is', 'one', 'of', 'the', 'best', 'for', 'Computer', 'Science', 'students', '.']\n",
            "['GeeksforGeeks is a great learning platform.', 'It is one of the best for Computer Science students.']\n"
          ]
        },
        {
          "output_type": "stream",
          "name": "stderr",
          "text": [
            "[nltk_data] Downloading package punkt_tab to /root/nltk_data...\n",
            "[nltk_data]   Unzipping tokenizers/punkt_tab.zip.\n"
          ]
        }
      ]
    },
    {
      "cell_type": "code",
      "source": [
        "import nltk.data\n",
        "\n",
        "spanish_tokenizer = nltk.data.load('tokenizers/punkt/spanish.pickle')\n",
        "\n",
        "text = 'Hola amigo. Estoy bien.'\n",
        "\n",
        "tokenized_text = spanish_tokenizer.tokenize(text)\n",
        "\n",
        "print(tokenized_text)"
      ],
      "metadata": {
        "colab": {
          "base_uri": "https://localhost:8080/"
        },
        "id": "8p6ygLRbiu2_",
        "outputId": "58c5d22a-4f22-463b-d417-f584f0ef48fd"
      },
      "execution_count": null,
      "outputs": [
        {
          "output_type": "stream",
          "name": "stdout",
          "text": [
            "['Hola amigo.', 'Estoy bien.']\n"
          ]
        }
      ]
    },
    {
      "cell_type": "code",
      "metadata": {
        "colab": {
          "base_uri": "https://localhost:8080/"
        },
        "id": "cc20869b",
        "outputId": "769dbbc7-43e1-4e92-b43c-be2112deda62"
      },
      "source": [
        "%pip install textblob"
      ],
      "execution_count": null,
      "outputs": [
        {
          "output_type": "stream",
          "name": "stdout",
          "text": [
            "Requirement already satisfied: textblob in /usr/local/lib/python3.11/dist-packages (0.19.0)\n",
            "Requirement already satisfied: nltk>=3.9 in /usr/local/lib/python3.11/dist-packages (from textblob) (3.9.1)\n",
            "Requirement already satisfied: click in /usr/local/lib/python3.11/dist-packages (from nltk>=3.9->textblob) (8.2.1)\n",
            "Requirement already satisfied: joblib in /usr/local/lib/python3.11/dist-packages (from nltk>=3.9->textblob) (1.5.1)\n",
            "Requirement already satisfied: regex>=2021.8.3 in /usr/local/lib/python3.11/dist-packages (from nltk>=3.9->textblob) (2024.11.6)\n",
            "Requirement already satisfied: tqdm in /usr/local/lib/python3.11/dist-packages (from nltk>=3.9->textblob) (4.67.1)\n"
          ]
        }
      ]
    },
    {
      "cell_type": "code",
      "metadata": {
        "colab": {
          "base_uri": "https://localhost:8080/"
        },
        "id": "4a887345",
        "outputId": "37f0e173-b83c-43d7-9bde-ca702a72edbb"
      },
      "source": [
        "from textblob import TextBlob\n",
        "gfg=TextBlob(\"GFG is a good company and always value their employees.\")\n",
        "gfg=gfg.sentiment #overall emotion\n",
        "print(gfg)"
      ],
      "execution_count": null,
      "outputs": [
        {
          "output_type": "stream",
          "name": "stdout",
          "text": [
            "Sentiment(polarity=0.7, subjectivity=0.6000000000000001)\n"
          ]
        }
      ]
    },
    {
      "cell_type": "code",
      "source": [],
      "metadata": {
        "id": "MxtVevjFmDVn"
      },
      "execution_count": null,
      "outputs": []
    }
  ],
  "metadata": {
    "colab": {
      "provenance": [],
      "authorship_tag": "ABX9TyMYmFz2p22Rw0Idk4DXioTV",
      "include_colab_link": true
    },
    "kernelspec": {
      "display_name": "Python 3",
      "name": "python3"
    },
    "language_info": {
      "name": "python"
    }
  },
  "nbformat": 4,
  "nbformat_minor": 0
}